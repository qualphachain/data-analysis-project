{
 "cells": [
  {
   "cell_type": "code",
   "execution_count": 19,
   "metadata": {},
   "outputs": [],
   "source": [
    "import requests\n",
    "from web3 import Web3\n",
    "import traceback\n",
    "from dotenv import load_dotenv\n",
    "import os\n",
    "import sys\n"
   ]
  },
  {
   "cell_type": "code",
   "execution_count": 20,
   "metadata": {},
   "outputs": [],
   "source": [
    "\n",
    "from block_data import BlockDataFetcher\n"
   ]
  },
  {
   "cell_type": "code",
   "execution_count": 21,
   "metadata": {},
   "outputs": [],
   "source": [
    "eth_rpc_url = \"https://mainnet.infura.io/v3/c105943b3ce548ceb7dcfb715f25cef5\"\n",
    "etherscan_api_key = \"2AF58TXHQKCWAVHXYP7MGGBVI4KSUGX5AJ\""
   ]
  },
  {
   "cell_type": "code",
   "execution_count": 22,
   "metadata": {},
   "outputs": [],
   "source": [
    "fetcher = BlockDataFetcher(\n",
    "    eth_rpc_url=eth_rpc_url, etherscan_api_key=etherscan_api_key\n",
    ")"
   ]
  },
  {
   "cell_type": "code",
   "execution_count": 23,
   "metadata": {},
   "outputs": [
    {
     "name": "stdout",
     "output_type": "stream",
     "text": [
      "Block Number: 20559891\n",
      "Timestamp: 1724036939\n",
      "Transactions: 264\n"
     ]
    }
   ],
   "source": [
    "fetcher.fetch_and_print_block(block_identifier=20559891, from_web3=True)"
   ]
  },
  {
   "cell_type": "code",
   "execution_count": 24,
   "metadata": {},
   "outputs": [
    {
     "name": "stdout",
     "output_type": "stream",
     "text": [
      "Block Number: 20559891\n",
      "Timestamp: 1724036939\n",
      "Transactions: 264\n"
     ]
    }
   ],
   "source": [
    "block_number = 20559891  # Replace with your block number\n",
    "fetcher.fetch_and_print_block(block_identifier=block_number, from_web3=False)"
   ]
  },
  {
   "cell_type": "code",
   "execution_count": 25,
   "metadata": {},
   "outputs": [
    {
     "data": {
      "text/plain": [
       "AttributeDict({'accessList': [],\n",
       " 'blockHash': HexBytes('0x19dcc3419b8a004e435373f72bc73fbe95b4417852577b333d6f95a44ec2adf3'),\n",
       " 'blockNumber': 20559891,\n",
       " 'chainId': 1,\n",
       " 'from': '0x725465E9F8e6D42dD2AA46a394f21726b4ede836',\n",
       " 'gas': 500000,\n",
       " 'gasPrice': 21316172563,\n",
       " 'hash': HexBytes('0xc79eb7734ef746f4475df282e8c27f601e218edbee09d693c66f45f4d01f477b'),\n",
       " 'input': HexBytes('0x38ed1739000000000000000000000000000000000000000000000000061b9795514f9a4000000000000000000000000000000000000000000005a6a2c4b0e507c000000000000000000000000000000000000000000000000000000000000000000000a0000000000000000000000000725465e9f8e6d42dd2aa46a394f21726b4ede8360000000000000000000000000000000000000000000000000000000066c2b7730000000000000000000000000000000000000000000000000000000000000002000000000000000000000000c02aaa39b223fe8d0a0e5c4f27ead9083c756cc2000000000000000000000000ae918ba8ef864a1eed9fda782dd216ea6b1cf532'),\n",
       " 'maxFeePerGas': 26415340037,\n",
       " 'maxPriorityFeePerGas': 20515810886,\n",
       " 'nonce': 999,\n",
       " 'r': HexBytes('0xa4f06ef99edc3690aec151d6ae52a22bd2abcef7704d02fdef587b6c54f6273a'),\n",
       " 's': HexBytes('0x76a7f4250f402d22e3df64a56b69252e3e255f8333d9f92d2ba7561f0784d3fc'),\n",
       " 'to': '0x7a250d5630B4cF539739dF2C5dAcb4c659F2488D',\n",
       " 'transactionIndex': 4,\n",
       " 'type': 2,\n",
       " 'v': 1,\n",
       " 'value': 0,\n",
       " 'yParity': 1})"
      ]
     },
     "execution_count": 25,
     "metadata": {},
     "output_type": "execute_result"
    }
   ],
   "source": [
    "transactionIndex = 4\n",
    "fetcher.get_block_with_web3(block_identifier=20559891)['transactions'][transactionIndex]"
   ]
  }
 ],
 "metadata": {
  "kernelspec": {
   "display_name": "base",
   "language": "python",
   "name": "python3"
  },
  "language_info": {
   "codemirror_mode": {
    "name": "ipython",
    "version": 3
   },
   "file_extension": ".py",
   "mimetype": "text/x-python",
   "name": "python",
   "nbconvert_exporter": "python",
   "pygments_lexer": "ipython3",
   "version": "3.12.2"
  }
 },
 "nbformat": 4,
 "nbformat_minor": 2
}
