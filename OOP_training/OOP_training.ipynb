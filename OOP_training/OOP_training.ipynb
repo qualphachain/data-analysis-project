{
 "cells": [
  {
   "cell_type": "code",
   "execution_count": 227,
   "metadata": {},
   "outputs": [],
   "source": [
    "from student_class import Student"
   ]
  },
  {
   "cell_type": "code",
   "execution_count": 228,
   "metadata": {},
   "outputs": [],
   "source": [
    "# Inherit\n",
    "# Learner inherit class Student\n",
    "class Learner(Student):\n",
    "    pass"
   ]
  },
  {
   "cell_type": "code",
   "execution_count": 229,
   "metadata": {},
   "outputs": [
    {
     "name": "stdout",
     "output_type": "stream",
     "text": [
      "Student's name is Bao\n"
     ]
    }
   ],
   "source": [
    "learner1= Learner('Bao', 3, 4, 6)"
   ]
  },
  {
   "cell_type": "code",
   "execution_count": 230,
   "metadata": {},
   "outputs": [
    {
     "name": "stdout",
     "output_type": "stream",
     "text": [
      "6\n"
     ]
    }
   ],
   "source": [
    "print(learner1.grade)"
   ]
  },
  {
   "cell_type": "code",
   "execution_count": 231,
   "metadata": {},
   "outputs": [
    {
     "ename": "AttributeError",
     "evalue": "property 'grade' of 'Learner' object has no setter",
     "output_type": "error",
     "traceback": [
      "\u001b[1;31m---------------------------------------------------------------------------\u001b[0m",
      "\u001b[1;31mAttributeError\u001b[0m                            Traceback (most recent call last)",
      "Cell \u001b[1;32mIn[231], line 1\u001b[0m\n\u001b[1;32m----> 1\u001b[0m learner1\u001b[38;5;241m.\u001b[39mgrade \u001b[38;5;241m=\u001b[39m \u001b[38;5;241m8\u001b[39m\n",
      "\u001b[1;31mAttributeError\u001b[0m: property 'grade' of 'Learner' object has no setter"
     ]
    }
   ],
   "source": [
    "learner1.grade = 8"
   ]
  },
  {
   "cell_type": "code",
   "execution_count": 232,
   "metadata": {},
   "outputs": [
    {
     "data": {
      "text/plain": [
       "6"
      ]
     },
     "execution_count": 232,
     "metadata": {},
     "output_type": "execute_result"
    }
   ],
   "source": [
    "learner1.grade"
   ]
  },
  {
   "cell_type": "code",
   "execution_count": 233,
   "metadata": {},
   "outputs": [
    {
     "data": {
      "text/plain": [
       "3"
      ]
     },
     "execution_count": 233,
     "metadata": {},
     "output_type": "execute_result"
    }
   ],
   "source": [
    "learner1.mark"
   ]
  },
  {
   "cell_type": "code",
   "execution_count": 234,
   "metadata": {},
   "outputs": [
    {
     "name": "stdout",
     "output_type": "stream",
     "text": [
      "Student's name is Bao\n",
      "Student's name is Dung\n",
      "Student's name is Khanh\n",
      "Student's name is Viet\n"
     ]
    }
   ],
   "source": [
    "student1 = Student('Bao', 3, 4,8)\n",
    "student2 = Student('Dung', 3, 4)\n",
    "student3 = Student('Khanh', 7, 4)\n",
    "student4 = Student('Viet', 8, 4)"
   ]
  },
  {
   "cell_type": "code",
   "execution_count": 235,
   "metadata": {},
   "outputs": [
    {
     "data": {
      "text/plain": [
       "Name Khanh"
      ]
     },
     "execution_count": 235,
     "metadata": {},
     "output_type": "execute_result"
    }
   ],
   "source": [
    "student3"
   ]
  },
  {
   "cell_type": "code",
   "execution_count": 236,
   "metadata": {},
   "outputs": [
    {
     "name": "stdout",
     "output_type": "stream",
     "text": [
      "12\n",
      "Student's name is Bao\n"
     ]
    }
   ],
   "source": [
    "print(student1.total_mark())\n",
    "student1.name_call()"
   ]
  },
  {
   "cell_type": "code",
   "execution_count": 237,
   "metadata": {},
   "outputs": [
    {
     "name": "stdout",
     "output_type": "stream",
     "text": [
      "{'__module__': 'student_class', 'all_name': ['Bao', 'Bao', 'Dung', 'Khanh', 'Viet'], 'iq': 100, '__init__': <function Student.__init__ at 0x00000196B4427D80>, 'grade': <property object at 0x00000196B5399170>, 'total_mark': <function Student.total_mark at 0x00000196B544B880>, 'name_call': <function Student.name_call at 0x00000196B544B6A0>, 'iq_compare': <function Student.iq_compare at 0x00000196B5470180>, '__repr__': <function Student.__repr__ at 0x00000196B5470220>, 'is_good': <function Student.is_good at 0x00000196B5470360>, '__dict__': <attribute '__dict__' of 'Student' objects>, '__weakref__': <attribute '__weakref__' of 'Student' objects>, '__doc__': None}\n",
      "{'name': 'Bao', 'mark': 3, 'subject': 4, '_Student__grade': 8}\n"
     ]
    }
   ],
   "source": [
    "print(Student.__dict__) # Print ra các attribute của class\n",
    "print(student1.__dict__) # Print ra các attribute của instance"
   ]
  },
  {
   "cell_type": "code",
   "execution_count": 238,
   "metadata": {},
   "outputs": [
    {
     "name": "stdout",
     "output_type": "stream",
     "text": [
      "Instance: 100\n",
      "Instance: 90\n",
      "Class: 100\n"
     ]
    }
   ],
   "source": [
    "print(f'Instance: {student1.iq}') # Attribute của class mặc định là của instance, nếu thay đổi value tại instance thì không ảnh hưởng tới value của class\n",
    "student1.iq = 90\n",
    "print(f'Instance: {student1.iq}')\n",
    "print(f'Class: {Student.iq}')\n"
   ]
  },
  {
   "cell_type": "code",
   "execution_count": 239,
   "metadata": {},
   "outputs": [
    {
     "data": {
      "text/plain": [
       "300"
      ]
     },
     "execution_count": 239,
     "metadata": {},
     "output_type": "execute_result"
    }
   ],
   "source": [
    "student1.iq_compare()"
   ]
  },
  {
   "cell_type": "code",
   "execution_count": 240,
   "metadata": {},
   "outputs": [
    {
     "data": {
      "text/plain": [
       "['Bao', 'Bao', 'Dung', 'Khanh', 'Viet']"
      ]
     },
     "execution_count": 240,
     "metadata": {},
     "output_type": "execute_result"
    }
   ],
   "source": [
    "Student.all_name"
   ]
  },
  {
   "cell_type": "markdown",
   "metadata": {},
   "source": [
    "Try and except"
   ]
  },
  {
   "cell_type": "code",
   "execution_count": 7,
   "metadata": {},
   "outputs": [
    {
     "name": "stdout",
     "output_type": "stream",
     "text": [
      "Không thể chia cho 0!\n"
     ]
    }
   ],
   "source": [
    "try:\n",
    "    # Đoạn mã có thể gây ra lỗi\n",
    "    risky_code = 1 / 0\n",
    "except ZeroDivisionError:\n",
    "    # Xử lý lỗi khi chia cho 0\n",
    "    print(\"Không thể chia cho 0!\")\n",
    "except Exception as e:\n",
    "    # Xử lý bất kỳ lỗi nào khác\n",
    "    print(f\"Có lỗi xảy ra: {e}\")\n"
   ]
  },
  {
   "cell_type": "code",
   "execution_count": 8,
   "metadata": {},
   "outputs": [
    {
     "name": "stdout",
     "output_type": "stream",
     "text": [
      "Bạn cần đăng nhập để tiếp tục.\n"
     ]
    }
   ],
   "source": [
    "is_logged_in = False\n",
    "\n",
    "if not is_logged_in: # If is_logged_in = False\n",
    "    print(\"Bạn cần đăng nhập để tiếp tục.\")\n"
   ]
  }
 ],
 "metadata": {
  "kernelspec": {
   "display_name": ".venv",
   "language": "python",
   "name": "python3"
  },
  "language_info": {
   "codemirror_mode": {
    "name": "ipython",
    "version": 3
   },
   "file_extension": ".py",
   "mimetype": "text/x-python",
   "name": "python",
   "nbconvert_exporter": "python",
   "pygments_lexer": "ipython3",
   "version": "3.11.5"
  }
 },
 "nbformat": 4,
 "nbformat_minor": 2
}
